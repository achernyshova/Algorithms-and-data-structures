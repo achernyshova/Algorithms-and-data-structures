{
 "cells": [
  {
   "cell_type": "markdown",
   "metadata": {},
   "source": [
    "# Data Structures"
   ]
  },
  {
   "cell_type": "markdown",
   "metadata": {},
   "source": [
    "No matter which programming language you program and which project you do, if you want to be a good coder, it is so important to learn data structures and algorithms.\n",
    "\n",
    "A **Data Structure** is a particular way of organizing data in a computer so that it can be used effectively.\n",
    "\n",
    "The data structure can be subdivided into major types: Linear Data Structure. Non-linear Data Structure.\n",
    "\n",
    "A **Linear Data Structure** have data elements arranged in sequential manner and each member element is connected to its previous and next element. This connection helps to traverse a linear data structure in a single level and in single run. Such data structures are easy to implement as computer memory is also sequential. Examples of linear data structures are List, Queue, Stack, Array etc.\n",
    "\n",
    "A **Non-Linear Data Structure** has no set sequence of connecting all its elements and each element can have multiple paths to connect to other elements. Such data structures supports multi-level storage and often cannot be traversed in single run. Such data structures are not easy to implement but are more efficient in utilizing computer memory. Examples of non-linear data structures are Tree, BST, Graphs etc.\n",
    "\n"
   ]
  },
  {
   "cell_type": "markdown",
   "metadata": {},
   "source": [
    "### Linked lists"
   ]
  },
  {
   "cell_type": "markdown",
   "metadata": {},
   "source": [
    "The first data structure we're going to look at is the Linked List.\n",
    "Linked list is a linear data structure where each element is a separate object.\n",
    "Linked list elements are not stored at contiguos location like arrays, the elements are linked using pointers.\n",
    "<img src=\"./images/memoryallocation.jpg\" alt=\"Drawing\" style=\"width: 550px;\"/>\n",
    "\n",
    "Linked list is a sequence of zero or more elements called nodes. Each **Node** contains two types of information: data and one or more links called pointers to the other nodes of the linked list. \n",
    "\n",
    "<img src=\"./images/linkedlist.jpg\" alt=\"Drawing\" style=\"width: 600px;\"/>\n",
    "\n",
    "-- --- \n",
    "\n",
    "\n"
   ]
  },
  {
   "cell_type": "markdown",
   "metadata": {},
   "source": [
    "### Implementation in Python:"
   ]
  },
  {
   "cell_type": "code",
   "execution_count": 48,
   "metadata": {},
   "outputs": [],
   "source": [
    "# A simple Python code to create a linked list \n",
    "  \n",
    "# Node class \n",
    "class Node: \n",
    "  \n",
    "    # Function to initialise the node object \n",
    "    def __init__(self, data): \n",
    "        self.data = data  # Assign data \n",
    "        self.next = None  # Initialize next as null \n",
    "  \n",
    "  \n",
    "# Linked List class contains a Node object \n",
    "class LinkedList: \n",
    "  \n",
    "    # Function to initialize head \n",
    "    def __init__(self): \n",
    "        self.head = None\n",
    "    \n",
    "    # Print function forlinked list starting from head \n",
    "    def printList(self): \n",
    "        temp = self.head \n",
    "        llist = []\n",
    "        while (temp): \n",
    "            llist.append(temp.data)\n",
    "            temp = temp.next\n",
    "        print (llist)"
   ]
  },
  {
   "cell_type": "code",
   "execution_count": 50,
   "metadata": {},
   "outputs": [
    {
     "name": "stdout",
     "output_type": "stream",
     "text": [
      "[3, 7, 6, 5]\n"
     ]
    }
   ],
   "source": [
    "# Start with the empty list \n",
    "llist = LinkedList() \n",
    "\n",
    "# Add head node\n",
    "llist.head = Node(3) \n",
    "\n",
    "# Add next nodes\n",
    "node_2 = Node(7) \n",
    "node_3 = Node(6) \n",
    "node_4 = Node(5)\n",
    "\n",
    "# Link nodes\n",
    "llist.head.next = node_2 # Link first node with second  \n",
    "node_2.next = node_3 # Link second node with the third node \n",
    "node_3.next = node_4 # Link third node with the forth node \n",
    "\n",
    "llist.printList()"
   ]
  },
  {
   "cell_type": "markdown",
   "metadata": {},
   "source": [
    "### Exercises"
   ]
  },
  {
   "cell_type": "markdown",
   "metadata": {},
   "source": [
    " **1. Write a function to delete a node (except the tail) in a singly linked list, given only access to that node.** (https://leetcode.com/problems/delete-node-in-a-linked-list/)"
   ]
  },
  {
   "cell_type": "markdown",
   "metadata": {},
   "source": [
    "The usual way of deleting a node node from a linked list is to modify the next pointer of the node before it, to point to the node after it. <br> Since we do not have access to the node before the one we want to delete, we cannot modify the next pointer of that node in any way. Instead, we have to replace the value of the node we want to delete with the value in the node after it, and then delete the node after it.\n",
    "<img src=\"./images/deletenode.jpg\" alt=\"Drawing\" style=\"width: 400px;\"/>"
   ]
  },
  {
   "cell_type": "code",
   "execution_count": 60,
   "metadata": {},
   "outputs": [],
   "source": [
    "def deleteNode(node):\n",
    "    node.data = node.next.data\n",
    "    node.next = node.next.next   "
   ]
  },
  {
   "cell_type": "code",
   "execution_count": 61,
   "metadata": {},
   "outputs": [
    {
     "name": "stdout",
     "output_type": "stream",
     "text": [
      "[3, 7, 6, 5]\n"
     ]
    }
   ],
   "source": [
    "llist.printList()"
   ]
  },
  {
   "cell_type": "code",
   "execution_count": 62,
   "metadata": {},
   "outputs": [
    {
     "name": "stdout",
     "output_type": "stream",
     "text": [
      "[3, 7, 5]\n"
     ]
    }
   ],
   "source": [
    "deleteNode(node_3)\n",
    "llist.printList()"
   ]
  },
  {
   "cell_type": "markdown",
   "metadata": {},
   "source": [
    " **2. ** ()"
   ]
  },
  {
   "cell_type": "code",
   "execution_count": null,
   "metadata": {},
   "outputs": [],
   "source": []
  },
  {
   "cell_type": "code",
   "execution_count": null,
   "metadata": {},
   "outputs": [],
   "source": []
  },
  {
   "cell_type": "code",
   "execution_count": null,
   "metadata": {},
   "outputs": [],
   "source": []
  },
  {
   "cell_type": "code",
   "execution_count": null,
   "metadata": {},
   "outputs": [],
   "source": []
  },
  {
   "cell_type": "code",
   "execution_count": null,
   "metadata": {},
   "outputs": [],
   "source": []
  }
 ],
 "metadata": {
  "kernelspec": {
   "display_name": "Python 3",
   "language": "python",
   "name": "python3"
  },
  "language_info": {
   "codemirror_mode": {
    "name": "ipython",
    "version": 3
   },
   "file_extension": ".py",
   "mimetype": "text/x-python",
   "name": "python",
   "nbconvert_exporter": "python",
   "pygments_lexer": "ipython3",
   "version": "3.7.4"
  }
 },
 "nbformat": 4,
 "nbformat_minor": 2
}

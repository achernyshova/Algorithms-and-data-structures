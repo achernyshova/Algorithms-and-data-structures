{
 "cells": [
  {
   "cell_type": "markdown",
   "metadata": {},
   "source": [
    "# Machine Learning Algorithms"
   ]
  },
  {
   "cell_type": "markdown",
   "metadata": {},
   "source": [
    "The goal of this project is to get better understanding of Algorithms as well as interview preparation process for ML engineer roles."
   ]
  },
  {
   "cell_type": "markdown",
   "metadata": {},
   "source": [
    "\n",
    "## K-means clustering\n"
   ]
  },
  {
   "cell_type": "markdown",
   "metadata": {},
   "source": [
    "**K-means clustering from scratch in Python implementation**\n",
    "\n",
    "<font color='red'>вводная картинка с точками по кластерам и писаниной от руки, типа обложки</font> \n",
    "\n",
    "Nowadays to make life of data scientisnts and ML developers easier there are so many different libraries that work like magic and solve complex problems for us. We don't have to write all the hard work from scratch in order the algorithm works, but I believe writing a machine learning algorithm from scratch is an extremely rewarding learning experience.\n",
    "\n",
    "In this post I'll walk you through the k-means algorithm step-by-step. In order to understand how libraries we use work under the hood we'll develop the code for the algorithm from scratch using Python.\n",
    "\n",
    "\n",
    "\n",
    "K-means algorithm is one of the simplest and popular unsupervised machine learning algorithm (we don’t have any target variable as in the case of supervised learning). It solves the clustering problem with certain number of clusters - k. \n",
    "\n",
    "<font color='red'>схемы алгоритмов</font> \n",
    "\n",
    "K-means clustering begins with **k** randomly placed **centroids** (points in space that represent the center of the cluster), and assigns every item to the nearest one. After\n",
    "the assignment, the centroids are moved to the average location of all the nodes\n",
    "assigned to them, and the assignments are redone. This process repeats until the\n",
    "assignments stop changing.\n",
    "\n",
    "\n",
    "<font color='red'>картинка из книги поэтапно кк меняются центройды</font> \n",
    "\n",
    "In the first frame, the two centroids (shown as dark circles) are placed randomly.\n",
    "Frame 2 shows that each of the items is assigned to the nearest centroid—in this\n",
    "case, A and B are assigned to the top centroid and C, D, and E are assigned to the\n",
    "bottom centroid. In the third frame, each centroid has been moved to the average\n",
    "location of the items that were assigned to it. When the assignments are calculated\n",
    "again, it turns out that C is now closer to the top centroid, while D and E remain\n",
    "closest to the bottom one. Thus, the final result is reached with A, B, and C in one\n",
    "cluster, and D and E in the other.\n",
    "\n",
    "<font color='red'>Схема цикл алгоритма https://www.kdnuggets.com/2017/06/machine-learning-workflows-python-scratch-part-2.html</font> \n",
    "\n",
    "\n",
    "\n",
    "Код и описание\n",
    "\n",
    "Сравнение кода с нуля и библиотеки\n",
    "\n",
    "**Заключеие**\n",
    "\n",
    "\n",
    "\n",
    "Интересные ссылки :\n",
    "\n",
    "https://github.com/ShawnLeee/the-book/blob/master/pybooks/Programming%20Collective%20Intelligence.pdf\n",
    "\n",
    "https://towardsdatascience.com/k-means-clustering-from-a-to-z-f6242a314e9a\n",
    "\n",
    "https://www.kdnuggets.com/2017/05/machine-learning-workflows-python-scratch-part-1.html"
   ]
  },
  {
   "cell_type": "markdown",
   "metadata": {},
   "source": [
    "K-means cycle:\n",
    "1. Pick a value for k\n",
    "2. /Initizlize centroids starting points in your data\n",
    "3. Create clusthes. Assign each point to the nearest centroid\n",
    "4. Make you cluster better. Move each centroif yo the center of its cluset\n",
    "5. Repeat steps 3-4 until you centroids converge"
   ]
  },
  {
   "cell_type": "code",
   "execution_count": null,
   "metadata": {},
   "outputs": [],
   "source": [
    "import random\n",
    "\n",
    "def kcluster(rows, distance = pearson, k=4):\n",
    "    # Determine the minimum and maximum values for each point\n",
    "    ranges=[(min([row[i] for row in rows]),max([row[i] for row in rows]))\n",
    "    for i in range(len(rows[0]))]\n",
    "    \n",
    "    # Create k randomly placed centroids\n",
    "    clusters=[[random.random( )*(ranges[i][1]-ranges[i][0])+ranges[i][0]\n",
    "    for i in range(len(rows[0]))] for j in range(k)]\n",
    "    \n",
    "    lastmatches=None\n",
    "    for t in range(100):\n",
    "        print ('Iteration %d' % t)\n",
    "        bestmatches=[[] for i in range(k)]\n",
    "    # Find which centroid is the closest for each row\n",
    "    for j in range(len(rows)):\n",
    "        row=rows[j]\n",
    "        bestmatch=0\n",
    "        for i in range(k):\n",
    "            d=distance(clusters[i],row)\n",
    "            if d<distance(clusters[bestmatch],row): bestmatch=i\n",
    "        bestmatches[bestmatch].append(j)\n",
    "                    \n",
    "    # If the results are the same as last time, this is complete\n",
    "    if bestmatches==lastmatches: break\n",
    "    lastmatches=bestmatches\n",
    "                        \n",
    "    # Move the centroids to the average of their members\n",
    "    for i in range(k):\n",
    "        avgs=[0.0]*len(rows[0])\n",
    "        if len(bestmatches[i])>0:\n",
    "            for rowid in bestmatches[i]:\n",
    "                for m in range(len(rows[rowid])):\n",
    "                    avgs[m]+=rows[rowid][m]\n",
    "            for j in range(len(avgs)):\n",
    "                avgs[j]/=len(bestmatches[i])\n",
    "            clusters[i]=avgs\n",
    "    return bestmatches"
   ]
  },
  {
   "cell_type": "code",
   "execution_count": null,
   "metadata": {},
   "outputs": [],
   "source": []
  },
  {
   "cell_type": "code",
   "execution_count": null,
   "metadata": {},
   "outputs": [],
   "source": []
  },
  {
   "cell_type": "code",
   "execution_count": null,
   "metadata": {},
   "outputs": [],
   "source": []
  },
  {
   "cell_type": "markdown",
   "metadata": {},
   "source": [
    "## Final code"
   ]
  },
  {
   "cell_type": "code",
   "execution_count": 22,
   "metadata": {},
   "outputs": [
    {
     "data": {
      "image/png": "[encoded data removed]",
      "text/plain": [
       "<Figure size 432x288 with 1 Axes>"
      ]
     },
     "metadata": {
      "needs_background": "light"
     },
     "output_type": "display_data"
    }
   ],
   "source": [
    "import matplotlib.pyplot as plt\n",
    "\n",
    "data = [\n",
    "    (0,0.1),(0.5,0.7),(0.3,0.6),(0.1,0.5),(0.3,0.4),(0.5,0.1),(0.65,0.15),(0.59,0.25),(0.35,0.25),(0.3,0.15),\n",
    "    (1.3,1.5),(1.3,1.2),(1.1,1.3),(1.1,1.4),(1.5,1.4),(1.5,1.1),(1.6,1.25),(1.5,1.75),(1.2,1.7),\n",
    "    (2.5,1.5),(2.7,1.7),(2.6,1.7),(2.5,1.5),(2.8,1.8),(2.3,1.6),(2.8,1.25),(2.5,1.25),(2.2,1.4)\n",
    "    ]\n",
    "\n",
    "x_val = [x[0] for x in data]\n",
    "y_val = [x[1] for x in data]\n",
    "\n",
    "plt.scatter(x_val,y_val);"
   ]
  },
  {
   "cell_type": "code",
   "execution_count": null,
   "metadata": {},
   "outputs": [],
   "source": []
  },
  {
   "cell_type": "code",
   "execution_count": null,
   "metadata": {},
   "outputs": [],
   "source": []
  },
  {
   "cell_type": "code",
   "execution_count": null,
   "metadata": {},
   "outputs": [],
   "source": []
  },
  {
   "cell_type": "code",
   "execution_count": null,
   "metadata": {},
   "outputs": [],
   "source": []
  },
  {
   "cell_type": "code",
   "execution_count": null,
   "metadata": {},
   "outputs": [],
   "source": []
  },
  {
   "cell_type": "code",
   "execution_count": null,
   "metadata": {},
   "outputs": [],
   "source": []
  },
  {
   "cell_type": "code",
   "execution_count": null,
   "metadata": {},
   "outputs": [],
   "source": []
  },
  {
   "cell_type": "markdown",
   "metadata": {},
   "source": [
    "### K-means using  sklearn"
   ]
  },
  {
   "cell_type": "code",
   "execution_count": 109,
   "metadata": {},
   "outputs": [],
   "source": [
    "from sklearn.cluster import KMeans"
   ]
  },
  {
   "cell_type": "code",
   "execution_count": 128,
   "metadata": {},
   "outputs": [
    {
     "data": {
      "text/plain": [
       "KMeans(algorithm='auto', copy_x=True, init='random', max_iter=300, n_clusters=3,\n",
       "       n_init=10, n_jobs=None, precompute_distances='auto', random_state=None,\n",
       "       tol=0.0001, verbose=0)"
      ]
     },
     "execution_count": 128,
     "metadata": {},
     "output_type": "execute_result"
    }
   ],
   "source": [
    "km = KMeans(n_clusters = 3, init='random')\n",
    "km.fit(data)"
   ]
  },
  {
   "cell_type": "code",
   "execution_count": 129,
   "metadata": {},
   "outputs": [
    {
     "data": {
      "text/plain": [
       "array([[1.3       , 1.31666667],\n",
       "       [2.6       , 1.57857143],\n",
       "       [0.28333333, 0.4       ]])"
      ]
     },
     "execution_count": 129,
     "metadata": {},
     "output_type": "execute_result"
    }
   ],
   "source": [
    "km.cluster_centers_"
   ]
  },
  {
   "cell_type": "code",
   "execution_count": 130,
   "metadata": {},
   "outputs": [
    {
     "data": {
      "text/plain": [
       "array([2, 2, 2, 2, 2, 2, 0, 0, 0, 0, 0, 0, 1, 1, 1, 1, 1, 1, 1],\n",
       "      dtype=int32)"
      ]
     },
     "execution_count": 130,
     "metadata": {},
     "output_type": "execute_result"
    }
   ],
   "source": [
    "km.labels_"
   ]
  },
  {
   "cell_type": "code",
   "execution_count": null,
   "metadata": {},
   "outputs": [],
   "source": []
  }
 ],
 "metadata": {
  "kernelspec": {
   "display_name": "Python 3",
   "language": "python",
   "name": "python3"
  },
  "language_info": {
   "codemirror_mode": {
    "name": "ipython",
    "version": 3
   },
   "file_extension": ".py",
   "mimetype": "text/x-python",
   "name": "python",
   "nbconvert_exporter": "python",
   "pygments_lexer": "ipython3",
   "version": "3.7.4"
  }
 },
 "nbformat": 4,
 "nbformat_minor": 2
}
